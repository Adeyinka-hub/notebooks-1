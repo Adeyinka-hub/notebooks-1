{
  "nbformat": 4,
  "nbformat_minor": 0,
  "metadata": {
    "colab": {
      "name": "Hilbert_Space.ipynb",
      "version": "0.3.2",
      "views": {},
      "default_view": {},
      "provenance": []
    },
    "kernelspec": {
      "name": "python3",
      "display_name": "Python 3"
    }
  },
  "cells": [
    {
      "metadata": {
        "id": "6Pc4_YU0SuKT",
        "colab_type": "text"
      },
      "cell_type": "markdown",
      "source": [
        "The `hilbert_space_algebra` module defines a simple algebra of finite dimensional or countably infinite dimensional Hilbert spaces.\n",
        "\n",
        "Local/primitive degrees of freedom (e.g. a single multi-level atom or a cavity mode) are described by a LocalSpace; it requires a label, and may define a basis through the basis or dimension arguments. The LocalSpace may also define custom identifiers for operators acting on that space (subclasses of LocalOperator):\n",
        "\n"
      ]
    },
    {
      "metadata": {
        "id": "3lpWK6s1SRq-",
        "colab_type": "code",
        "colab": {
          "autoexec": {
            "startup": false,
            "wait_interval": 0
          },
          "base_uri": "https://localhost:8080/",
          "height": 374
        },
        "outputId": "46191b04-0a0d-4ca6-f571-ad1c76da0bbc",
        "executionInfo": {
          "status": "ok",
          "timestamp": 1526899251804,
          "user_tz": -330,
          "elapsed": 4422,
          "user": {
            "displayName": "Amit Jaiswal",
            "photoUrl": "https://lh3.googleusercontent.com/a/default-user=s128",
            "userId": "102028172612648957868"
          }
        }
      },
      "cell_type": "code",
      "source": [
        "!pip install QNET"
      ],
      "execution_count": 4,
      "outputs": [
        {
          "output_type": "stream",
          "text": [
            "Collecting QNET\n",
            "\u001b[?25l  Downloading https://files.pythonhosted.org/packages/3f/16/3a4a4fddadf3106f798e76edef2c653c6fd3a196c6b5e79d32d1bdff47b7/QNET-1.4.3.tar.gz (1.2MB)\n",
            "\u001b[K    100% |████████████████████████████████| 1.2MB 6.6MB/s \n",
            "\u001b[?25hRequirement already satisfied: matplotlib in /usr/local/lib/python3.6/dist-packages (from QNET) (2.1.2)\n",
            "Requirement already satisfied: sympy in /usr/local/lib/python3.6/dist-packages (from QNET) (1.1.1)\n",
            "Collecting ply (from QNET)\n",
            "\u001b[?25l  Downloading https://files.pythonhosted.org/packages/a3/58/35da89ee790598a0700ea49b2a66594140f44dec458c07e8e3d4979137fc/ply-3.11-py2.py3-none-any.whl (49kB)\n",
            "\u001b[K    100% |████████████████████████████████| 51kB 11.1MB/s \n",
            "\u001b[?25hRequirement already satisfied: six in /usr/local/lib/python3.6/dist-packages (from QNET) (1.11.0)\n",
            "Requirement already satisfied: numpy in /usr/local/lib/python3.6/dist-packages (from QNET) (1.14.3)\n",
            "Requirement already satisfied: cycler>=0.10 in /usr/local/lib/python3.6/dist-packages (from matplotlib->QNET) (0.10.0)\n",
            "Requirement already satisfied: python-dateutil>=2.1 in /usr/local/lib/python3.6/dist-packages (from matplotlib->QNET) (2.5.3)\n",
            "Requirement already satisfied: pyparsing!=2.0.4,!=2.1.2,!=2.1.6,>=2.0.1 in /usr/local/lib/python3.6/dist-packages (from matplotlib->QNET) (2.2.0)\n",
            "Requirement already satisfied: pytz in /usr/local/lib/python3.6/dist-packages (from matplotlib->QNET) (2018.4)\n",
            "Requirement already satisfied: mpmath>=0.19 in /usr/local/lib/python3.6/dist-packages (from sympy->QNET) (1.0.0)\n",
            "Building wheels for collected packages: QNET\n",
            "  Running setup.py bdist_wheel for QNET ... \u001b[?25l-\b \b\\\b \bdone\n",
            "\u001b[?25h  Stored in directory: /content/.cache/pip/wheels/62/13/87/57448b1ce8443509706d7de2f99d3c7a033608b6ac80eac455\n",
            "Successfully built QNET\n",
            "Installing collected packages: ply, QNET\n",
            "Successfully installed QNET-1.4.3 ply-3.11\n"
          ],
          "name": "stdout"
        }
      ]
    },
    {
      "metadata": {
        "id": "cloCg7VnRaJz",
        "colab_type": "code",
        "colab": {
          "autoexec": {
            "startup": false,
            "wait_interval": 0
          }
        }
      },
      "cell_type": "code",
      "source": [
        "import qnet\n",
        "from qnet.algebra import *\n",
        "import sympy as sp"
      ],
      "execution_count": 0,
      "outputs": []
    },
    {
      "metadata": {
        "id": "_JB6gRjOR2lW",
        "colab_type": "code",
        "colab": {
          "autoexec": {
            "startup": false,
            "wait_interval": 0
          },
          "base_uri": "https://localhost:8080/",
          "height": 68
        },
        "outputId": "4dcb3979-ec16-4637-8a98-5e6434f8eb56",
        "executionInfo": {
          "status": "ok",
          "timestamp": 1526899728307,
          "user_tz": -330,
          "elapsed": 476,
          "user": {
            "displayName": "Amit Jaiswal",
            "photoUrl": "https://lh3.googleusercontent.com/a/default-user=s128",
            "userId": "102028172612648957868"
          }
        }
      },
      "cell_type": "code",
      "source": [
        "from sympy import symbols, I, sqrt\n",
        "from qnet.algebra.circuit_algebra import Create, LocalSigma, SLH, Destroy, Matrix, identity_matrix\n",
        "from qnet.algebra.operator_algebra import Destroy\n",
        "s = Destroy(hs=\"s\")\n",
        "p = Destroy(hs=\"p\")\n",
        "gamma_p, gamma_s, epsilon, p0 = sp.symbols(\"gamma_p, gamma_s, epsilon, p0\", positive=True)\n",
        "\n",
        "S = -identity_matrix(2)\n",
        "L = [sp.sqrt(2*gamma_p)*p, sp.sqrt(2*gamma_s)*s]\n",
        "H = sp.I*epsilon/2 * p*s.dag()*s.dag() ; H = H + H.dag()\n",
        "OPO = SLH(S,L,H).coherent_input(p0, 0)\n",
        "OPO"
      ],
      "execution_count": 16,
      "outputs": [
        {
          "output_type": "execute_result",
          "data": {
            "text/latex": "$\\left( \\begin{pmatrix} {\\rm -1} & {\\rm 0} \\\\ {\\rm 0} & {\\rm -1}\\end{pmatrix}, \\begin{pmatrix} {\\rm  - p_{0}} +  \\sqrt{2} \\sqrt{\\gamma_{p}} {a_{{{\\rm p}}}} \\\\  \\sqrt{2} \\sqrt{\\gamma_{s}} {a_{{{\\rm s}}}}\\end{pmatrix}, {\\rm  \\frac{i}{2} \\left({\\rm  \\sqrt{2} \\sqrt{\\gamma_{p}} p_{0} {a_{{{\\rm p}}}^\\dagger}} -  \\sqrt{2} \\sqrt{\\gamma_{p}} p_{0} {a_{{{\\rm p}}}}\\right)} -  \\frac{i \\epsilon}{2}  {a_{{{\\rm p}}}^\\dagger} {a_{{{\\rm s}}}} {a_{{{\\rm s}}}} +  \\frac{i \\epsilon}{2}  {a_{{{\\rm p}}}} {a_{{{\\rm s}}}^\\dagger} {a_{{{\\rm s}}}^\\dagger} \\right)$",
            "text/plain": [
              "SLH(Matrix([[-1, 0], [0, -1]]), Matrix([[OperatorPlus(ScalarTimesOperator(-p0, IdentityOperator), ScalarTimesOperator(sqrt(2)*sqrt(gamma_p), Destroy(LocalSpace('p', ''))))], [ScalarTimesOperator(sqrt(2)*sqrt(gamma_s), Destroy(LocalSpace('s', '')))]]), OperatorPlus(ScalarTimesOperator(I/2, OperatorPlus(ScalarTimesOperator(sqrt(2)*sqrt(gamma_p)*p0, Create(LocalSpace('p', ''))), ScalarTimesOperator(-sqrt(2)*sqrt(gamma_p)*p0, Destroy(LocalSpace('p', ''))))), ScalarTimesOperator(-I*epsilon/2, OperatorTimes(Create(LocalSpace('p', '')), Destroy(LocalSpace('s', '')), Destroy(LocalSpace('s', '')))), ScalarTimesOperator(I*epsilon/2, OperatorTimes(Destroy(LocalSpace('p', '')), Create(LocalSpace('s', '')), Create(LocalSpace('s', ''))))))"
            ]
          },
          "metadata": {
            "tags": []
          },
          "execution_count": 16
        }
      ]
    },
    {
      "metadata": {
        "id": "7LrJGJQYSiBq",
        "colab_type": "code",
        "colab": {
          "autoexec": {
            "startup": false,
            "wait_interval": 0
          },
          "base_uri": "https://localhost:8080/",
          "height": 68
        },
        "outputId": "5de75c0f-fe9f-41dd-8f29-46c5ebc6dc39",
        "executionInfo": {
          "status": "ok",
          "timestamp": 1526899743422,
          "user_tz": -330,
          "elapsed": 443,
          "user": {
            "displayName": "Amit Jaiswal",
            "photoUrl": "https://lh3.googleusercontent.com/a/default-user=s128",
            "userId": "102028172612648957868"
          }
        }
      },
      "cell_type": "code",
      "source": [
        "k = sp.symbols(\"k\", positive=True)\n",
        "OPO_prelimit = OPO.substitute({gamma_p : k**2*gamma_p, epsilon : k*epsilon})\n",
        "OPO_prelimit"
      ],
      "execution_count": 17,
      "outputs": [
        {
          "output_type": "execute_result",
          "data": {
            "text/latex": "$\\left( \\begin{pmatrix} {\\rm -1} & {\\rm 0} \\\\ {\\rm 0} & {\\rm -1}\\end{pmatrix}, \\begin{pmatrix} {\\rm  - p_{0}} +  \\sqrt{2} \\sqrt{\\gamma_{p}} k {a_{{{\\rm p}}}} \\\\  \\sqrt{2} \\sqrt{\\gamma_{s}} {a_{{{\\rm s}}}}\\end{pmatrix}, {\\rm  \\frac{i}{2} \\left({\\rm  \\sqrt{2} \\sqrt{\\gamma_{p}} k p_{0} {a_{{{\\rm p}}}^\\dagger}} -  \\sqrt{2} \\sqrt{\\gamma_{p}} k p_{0} {a_{{{\\rm p}}}}\\right)} -  \\frac{i \\epsilon}{2} k  {a_{{{\\rm p}}}^\\dagger} {a_{{{\\rm s}}}} {a_{{{\\rm s}}}} +  \\frac{i \\epsilon}{2} k  {a_{{{\\rm p}}}} {a_{{{\\rm s}}}^\\dagger} {a_{{{\\rm s}}}^\\dagger} \\right)$",
            "text/plain": [
              "SLH(Matrix([[-1, 0], [0, -1]]), Matrix([[OperatorPlus(ScalarTimesOperator(-p0, IdentityOperator), ScalarTimesOperator(sqrt(2)*sqrt(gamma_p)*k, Destroy(LocalSpace('p', ''))))], [ScalarTimesOperator(sqrt(2)*sqrt(gamma_s), Destroy(LocalSpace('s', '')))]]), OperatorPlus(ScalarTimesOperator(I/2, OperatorPlus(ScalarTimesOperator(sqrt(2)*sqrt(gamma_p)*k*p0, Create(LocalSpace('p', ''))), ScalarTimesOperator(-sqrt(2)*sqrt(gamma_p)*k*p0, Destroy(LocalSpace('p', ''))))), ScalarTimesOperator(-I*epsilon*k/2, OperatorTimes(Create(LocalSpace('p', '')), Destroy(LocalSpace('s', '')), Destroy(LocalSpace('s', '')))), ScalarTimesOperator(I*epsilon*k/2, OperatorTimes(Destroy(LocalSpace('p', '')), Create(LocalSpace('s', '')), Create(LocalSpace('s', ''))))))"
            ]
          },
          "metadata": {
            "tags": []
          },
          "execution_count": 17
        }
      ]
    },
    {
      "metadata": {
        "id": "cc1hRwsyURi9",
        "colab_type": "code",
        "colab": {
          "autoexec": {
            "startup": false,
            "wait_interval": 0
          },
          "base_uri": "https://localhost:8080/",
          "height": 51
        },
        "outputId": "1a7f654c-e753-49f9-ed8d-0a8ae3a6150d",
        "executionInfo": {
          "status": "ok",
          "timestamp": 1526899801044,
          "user_tz": -330,
          "elapsed": 4944,
          "user": {
            "displayName": "Amit Jaiswal",
            "photoUrl": "https://lh3.googleusercontent.com/a/default-user=s128",
            "userId": "102028172612648957868"
          }
        }
      },
      "cell_type": "code",
      "source": [
        "from qnet.algebra.circuit_algebra import SLH, try_adiabatic_elimination, prepare_adiabatic_limit\n",
        "try_adiabatic_elimination(OPO_prelimit, k=k)"
      ],
      "execution_count": 19,
      "outputs": [
        {
          "output_type": "execute_result",
          "data": {
            "text/latex": "$\\left( \\begin{pmatrix} 1 & 0 \\\\ 0 &  -1\\end{pmatrix}, \\begin{pmatrix} {\\rm  p_{0}} -  \\frac{\\sqrt{2} \\epsilon}{2 \\sqrt{\\gamma_{p}}}  {a_{{{\\rm s}}}} {a_{{{\\rm s}}}} \\\\  \\sqrt{2} \\sqrt{\\gamma_{s}} {a_{{{\\rm s}}}}\\end{pmatrix}, {\\rm  \\frac{\\sqrt{2} i \\epsilon p_{0}}{4 \\sqrt{\\gamma_{p}}}  {a_{{{\\rm s}}}^\\dagger} {a_{{{\\rm s}}}^\\dagger}} -  \\frac{\\sqrt{2} i \\epsilon p_{0}}{4 \\sqrt{\\gamma_{p}}}  {a_{{{\\rm s}}}} {a_{{{\\rm s}}}} \\right)$",
            "text/plain": [
              "SLH(Matrix([[IdentityOperator, ZeroOperator], [ZeroOperator, ScalarTimesOperator(-1, IdentityOperator)]]), Matrix([[OperatorPlus(ScalarTimesOperator(p0, IdentityOperator), ScalarTimesOperator(-sqrt(2)*epsilon/(2*sqrt(gamma_p)), OperatorTimes(Destroy(LocalSpace('s', '')), Destroy(LocalSpace('s', '')))))], [ScalarTimesOperator(sqrt(2)*sqrt(gamma_s), Destroy(LocalSpace('s', '')))]]), OperatorPlus(ScalarTimesOperator(sqrt(2)*I*epsilon*p0/(4*sqrt(gamma_p)), OperatorTimes(Create(LocalSpace('s', '')), Create(LocalSpace('s', '')))), ScalarTimesOperator(-sqrt(2)*I*epsilon*p0/(4*sqrt(gamma_p)), OperatorTimes(Destroy(LocalSpace('s', '')), Destroy(LocalSpace('s', ''))))))"
            ]
          },
          "metadata": {
            "tags": []
          },
          "execution_count": 19
        }
      ]
    },
    {
      "metadata": {
        "id": "X6nLab9bUVWb",
        "colab_type": "code",
        "colab": {
          "autoexec": {
            "startup": false,
            "wait_interval": 0
          },
          "base_uri": "https://localhost:8080/",
          "height": 68
        },
        "outputId": "5723dde5-50e4-4b6b-c008-a4fd6890852c",
        "executionInfo": {
          "status": "ok",
          "timestamp": 1526899813565,
          "user_tz": -330,
          "elapsed": 442,
          "user": {
            "displayName": "Amit Jaiswal",
            "photoUrl": "https://lh3.googleusercontent.com/a/default-user=s128",
            "userId": "102028172612648957868"
          }
        }
      },
      "cell_type": "code",
      "source": [
        "s = Destroy(hs=\"s\")\n",
        "p = Destroy(hs=\"p\")\n",
        "gamma_p, gamma_s, epsilon, p0 = sp.symbols(\"gamma_p, gamma_s, epsilon, p0\", positive=True)\n",
        "\n",
        "S = -identity_matrix(2)\n",
        "L = [sp.sqrt(2*gamma_p)*p, sp.sqrt(2*gamma_s)*s]\n",
        "H = sp.I*epsilon/2 * p*s.dag()*s.dag() ; H = H + H.dag()\n",
        "OPO = SLH(S,L,H).coherent_input(p0, 0)\n",
        "OPO"
      ],
      "execution_count": 20,
      "outputs": [
        {
          "output_type": "execute_result",
          "data": {
            "text/latex": "$\\left( \\begin{pmatrix} {\\rm -1} & {\\rm 0} \\\\ {\\rm 0} & {\\rm -1}\\end{pmatrix}, \\begin{pmatrix} {\\rm  - p_{0}} +  \\sqrt{2} \\sqrt{\\gamma_{p}} {a_{{{\\rm p}}}} \\\\  \\sqrt{2} \\sqrt{\\gamma_{s}} {a_{{{\\rm s}}}}\\end{pmatrix}, {\\rm  \\frac{i}{2} \\left({\\rm  \\sqrt{2} \\sqrt{\\gamma_{p}} p_{0} {a_{{{\\rm p}}}^\\dagger}} -  \\sqrt{2} \\sqrt{\\gamma_{p}} p_{0} {a_{{{\\rm p}}}}\\right)} -  \\frac{i \\epsilon}{2}  {a_{{{\\rm p}}}^\\dagger} {a_{{{\\rm s}}}} {a_{{{\\rm s}}}} +  \\frac{i \\epsilon}{2}  {a_{{{\\rm p}}}} {a_{{{\\rm s}}}^\\dagger} {a_{{{\\rm s}}}^\\dagger} \\right)$",
            "text/plain": [
              "SLH(Matrix([[-1, 0], [0, -1]]), Matrix([[OperatorPlus(ScalarTimesOperator(-p0, IdentityOperator), ScalarTimesOperator(sqrt(2)*sqrt(gamma_p), Destroy(LocalSpace('p', ''))))], [ScalarTimesOperator(sqrt(2)*sqrt(gamma_s), Destroy(LocalSpace('s', '')))]]), OperatorPlus(ScalarTimesOperator(I/2, OperatorPlus(ScalarTimesOperator(sqrt(2)*sqrt(gamma_p)*p0, Create(LocalSpace('p', ''))), ScalarTimesOperator(-sqrt(2)*sqrt(gamma_p)*p0, Destroy(LocalSpace('p', ''))))), ScalarTimesOperator(-I*epsilon/2, OperatorTimes(Create(LocalSpace('p', '')), Destroy(LocalSpace('s', '')), Destroy(LocalSpace('s', '')))), ScalarTimesOperator(I*epsilon/2, OperatorTimes(Destroy(LocalSpace('p', '')), Create(LocalSpace('s', '')), Create(LocalSpace('s', ''))))))"
            ]
          },
          "metadata": {
            "tags": []
          },
          "execution_count": 20
        }
      ]
    },
    {
      "metadata": {
        "id": "wDdBpfYmUiq_",
        "colab_type": "code",
        "colab": {
          "autoexec": {
            "startup": false,
            "wait_interval": 0
          },
          "base_uri": "https://localhost:8080/",
          "height": 68
        },
        "outputId": "f92552f9-6714-4fc9-9730-3e09368dc514",
        "executionInfo": {
          "status": "ok",
          "timestamp": 1526899825199,
          "user_tz": -330,
          "elapsed": 553,
          "user": {
            "displayName": "Amit Jaiswal",
            "photoUrl": "https://lh3.googleusercontent.com/a/default-user=s128",
            "userId": "102028172612648957868"
          }
        }
      },
      "cell_type": "code",
      "source": [
        "k = sp.symbols(\"k\", positive=True)\n",
        "OPO_prelimit = OPO.substitute({gamma_p : k**2*gamma_p, epsilon : k*epsilon})\n",
        "OPO_prelimit"
      ],
      "execution_count": 21,
      "outputs": [
        {
          "output_type": "execute_result",
          "data": {
            "text/latex": "$\\left( \\begin{pmatrix} {\\rm -1} & {\\rm 0} \\\\ {\\rm 0} & {\\rm -1}\\end{pmatrix}, \\begin{pmatrix} {\\rm  - p_{0}} +  \\sqrt{2} \\sqrt{\\gamma_{p}} k {a_{{{\\rm p}}}} \\\\  \\sqrt{2} \\sqrt{\\gamma_{s}} {a_{{{\\rm s}}}}\\end{pmatrix}, {\\rm  \\frac{i}{2} \\left({\\rm  \\sqrt{2} \\sqrt{\\gamma_{p}} k p_{0} {a_{{{\\rm p}}}^\\dagger}} -  \\sqrt{2} \\sqrt{\\gamma_{p}} k p_{0} {a_{{{\\rm p}}}}\\right)} -  \\frac{i \\epsilon}{2} k  {a_{{{\\rm p}}}^\\dagger} {a_{{{\\rm s}}}} {a_{{{\\rm s}}}} +  \\frac{i \\epsilon}{2} k  {a_{{{\\rm p}}}} {a_{{{\\rm s}}}^\\dagger} {a_{{{\\rm s}}}^\\dagger} \\right)$",
            "text/plain": [
              "SLH(Matrix([[-1, 0], [0, -1]]), Matrix([[OperatorPlus(ScalarTimesOperator(-p0, IdentityOperator), ScalarTimesOperator(sqrt(2)*sqrt(gamma_p)*k, Destroy(LocalSpace('p', ''))))], [ScalarTimesOperator(sqrt(2)*sqrt(gamma_s), Destroy(LocalSpace('s', '')))]]), OperatorPlus(ScalarTimesOperator(I/2, OperatorPlus(ScalarTimesOperator(sqrt(2)*sqrt(gamma_p)*k*p0, Create(LocalSpace('p', ''))), ScalarTimesOperator(-sqrt(2)*sqrt(gamma_p)*k*p0, Destroy(LocalSpace('p', ''))))), ScalarTimesOperator(-I*epsilon*k/2, OperatorTimes(Create(LocalSpace('p', '')), Destroy(LocalSpace('s', '')), Destroy(LocalSpace('s', '')))), ScalarTimesOperator(I*epsilon*k/2, OperatorTimes(Destroy(LocalSpace('p', '')), Create(LocalSpace('s', '')), Create(LocalSpace('s', ''))))))"
            ]
          },
          "metadata": {
            "tags": []
          },
          "execution_count": 21
        }
      ]
    },
    {
      "metadata": {
        "id": "Ee30pOK_UlfE",
        "colab_type": "code",
        "colab": {
          "autoexec": {
            "startup": false,
            "wait_interval": 0
          },
          "base_uri": "https://localhost:8080/",
          "height": 34
        },
        "outputId": "e1aad547-8aa3-424e-b6a0-61f2ca540f79",
        "executionInfo": {
          "status": "ok",
          "timestamp": 1526899838038,
          "user_tz": -330,
          "elapsed": 483,
          "user": {
            "displayName": "Amit Jaiswal",
            "photoUrl": "https://lh3.googleusercontent.com/a/default-user=s128",
            "userId": "102028172612648957868"
          }
        }
      },
      "cell_type": "code",
      "source": [
        "prepare_adiabatic_limit(OPO_prelimit, k=k)[2]"
      ],
      "execution_count": 22,
      "outputs": [
        {
          "output_type": "execute_result",
          "data": {
            "text/latex": "${\\rm  - \\frac{p_{0}^{2}}{2}} -  \\gamma_{s}  {a_{{{\\rm s}}}^\\dagger} {a_{{{\\rm s}}}}$",
            "text/plain": [
              "OperatorPlus(ScalarTimesOperator(-p0**2/2, IdentityOperator), ScalarTimesOperator(-gamma_s, OperatorTimes(Create(LocalSpace('s', '')), Destroy(LocalSpace('s', '')))))"
            ]
          },
          "metadata": {
            "tags": []
          },
          "execution_count": 22
        }
      ]
    }
  ]
}